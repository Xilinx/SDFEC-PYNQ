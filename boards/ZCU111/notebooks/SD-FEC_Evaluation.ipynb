{
 "cells": [
  {
   "cell_type": "markdown",
   "metadata": {},
   "source": [
    "# SD-FEC Evaluation\n",
    "\n",
    "> This notebook offers an environment to explore the Soft Decision Forward Error Correction (SD-FEC) IPs in RFSoC using the ZCU111 board. Based on work by Andy Dow (Xilinx, Edinburgh), it allows us to play with a set of configurable blocks including:\n",
    ">\n",
    ">  1. A data source with support for BPSK, QPSK, QAM-16, and QAM-64 modulation schemes\n",
    ">\n",
    ">  2. A pair of SD-FEC encoder/decoder blocks with configurable LDPC codes\n",
    ">\n",
    ">  3. An additive white Gaussian noise (AWGN) channel model with parameterisable noise power\n",
    ">\n",
    "> We'll quickly get some classic bit error rate curves from the hardware then investigate how these change with different modulation schemes and LDPC codes, and provide a look at some performance metrics. \n",
    "\n",
    "## Contents\n",
    "\n",
    " * [SD-FEC Evaluation](#SD-FEC-Evaluation)\n",
    "   + [SD-FEC refresher](#SD-FEC-refresher)\n",
    "   + [Loading the design](#Loading-the-design)\n",
    "   + [Getting a simple BER curve](#Getting-a-simple-BER-curve)\n",
    "   + [Comparing modulation schemes](#Comparing-modulation-schemes)\n",
    "   + [Comparing LDPC codes](#Comparing-LDPC-codes)\n",
    "   + [A note on performance](#A-note-on-performance)\n",
    "\n",
    "## SD-FEC refresher\n",
    "\n",
    "The ZCU111 has 8 SD-FEC integrated blocks that we can use to enable our RF systems to function under non-ideal, noisy environments.\n",
    "\n",
    "The SD-FEC blocks support Low Density Parity Check (LDPC) decoding and encoding, as well as the turbo code decoding used in LTE. We'll focus on LDPC codes for now since we can encode *and* decode these using a SD-FEC block. These codes are configurable from software, as we'll see [later](#Comparing-LDPC-codes).\n",
    "\n",
    "An LDPC code is a form of parity check matrix. Let's take a look at a graphical representation of what this means:\n",
    "\n",
    "![](assets/ldpc_fourney.svg)\n",
    "\n",
    "Here the row of `=` blocks represent the original data bits, the `+` blocks represent the parity bits, and the code dictates the number of blocks and their interconnects.\n",
    "Note that most data bits contribute to multiple parity bits. Upon detecting error(s), multiple parity bits can be used to iteratively retrieve the original data. This iterative decode process can terminate early if we detect a valid codeword.\n",
    "\n",
    "For some further reading on LDPC codes, take a look at Bernhard M.J. Leiner's excellent [tutorial](http://www.bernh.net/media/download/papers/ldpc.pdf). You might want to save this reading for later though — some of our upcoming SD-FEC tests take a few minutes to execute!\n",
    "\n",
    "## Loading the design\n",
    "\n",
    "We'll first load the bitstream and our supporting Python library"
   ]
  },
  {
   "cell_type": "code",
   "execution_count": null,
   "metadata": {},
   "outputs": [],
   "source": [
    "from rfsoc_sdfec import SdFecOverlay, ModType\n",
    "ol = SdFecOverlay()"
   ]
  },
  {
   "cell_type": "markdown",
   "metadata": {},
   "source": [
    "This design includes a complete datapath with a pair of SD-FEC encoding/decoding blocks, as pictured below.\n",
    "![](assets/sd-fec-eval.svg)\n",
    "\n",
    "Let's have a look at what we can do with this design. Take a look at the most important method we expose, `run_block`:"
   ]
  },
  {
   "cell_type": "code",
   "execution_count": null,
   "metadata": {},
   "outputs": [],
   "source": [
    "ol.run_block?"
   ]
  },
  {
   "cell_type": "markdown",
   "metadata": {},
   "source": [
    "To run a block of data through the signal path, we must supply configurations for the source, SD-FEC, and channel model. Let's take the time to define a set of default parameters."
   ]
  },
  {
   "cell_type": "code",
   "execution_count": null,
   "metadata": {},
   "outputs": [],
   "source": [
    "base_params = lambda : dict(\n",
    "    source_params = dict(\n",
    "        mod_type   = ModType.BPSK,\n",
    "        zero_data  = False,\n",
    "        num_blocks = 5000,\n",
    "    ),\n",
    "    fec_params = dict(\n",
    "        code_name    = 'docsis_short',\n",
    "        max_iter     = 8,\n",
    "        term_on_pass = True,\n",
    "    ),\n",
    "    channel_params = dict(\n",
    "        snr       = 5.0,\n",
    "        skip_chan = False,\n",
    "    ),\n",
    ")"
   ]
  },
  {
   "cell_type": "markdown",
   "metadata": {},
   "source": [
    "## Getting a simple BER curve\n",
    "\n",
    "First of all, let's try to run a single block of data through the signal path. We ask `base_params` for a set of parameters, and pass it to the overlay."
   ]
  },
  {
   "cell_type": "code",
   "execution_count": null,
   "metadata": {},
   "outputs": [],
   "source": [
    "ol.run_block(**base_params())"
   ]
  },
  {
   "cell_type": "markdown",
   "metadata": {},
   "source": [
    "To be clear, we've just used two of the SD-FEC blocks present in the RFSoC! We've asked the overlay to push 5000 blocks of random data through an SD-FEC encoder, through a noisy channel using BPSK modulation, and back through an SD-FEC decoder. The size of each block depends on the LDPC code selected but in this case, we've just sent $\\approx$40 Mb through the data path.\n",
    "\n",
    "There's a lot of statistics we can potentially look at. These include:\n",
    "  * Bit Error Rate (BER) and Frame Error Rate (FER) of the final signal *after* SD-FEC decoding\n",
    "  \n",
    "  * BER and FER of the raw received signal *before* SD-FEC decoding\n",
    "  \n",
    "  * Throughput of the SD-FEC encoding and decoding in Gb/s\n",
    "  \n",
    "  * Average iterations needed for SD-FEC decoding (remember, the decoder can exit early)\n",
    "  \n",
    "Let's now run a set of tests, sweeping the SNR of the channel from low (noisy channel) to high (clean channel), and see how the bit error rate is affected."
   ]
  },
  {
   "cell_type": "code",
   "execution_count": null,
   "metadata": {},
   "outputs": [],
   "source": [
    "import numpy  as np            # Math functions\n",
    "import pandas as pd            # DataFrame for storing results\n",
    "import tqdm.notebook # Progress bars\n",
    "\n",
    "# Define a progress bar helper\n",
    "bar = lambda itr, desc: tqdm.notebook.tqdm(\n",
    "    itr,\n",
    "    desc=desc,\n",
    "    bar_format='{desc:<5}{bar} {percentage:3.0f}% {r_bar}'\n",
    ")\n",
    "\n",
    "params = base_params()\n",
    "results = pd.DataFrame()\n",
    "\n",
    "for snr in bar(np.arange(3, 5.5, step=0.25), 'SNR Loop'):\n",
    "    params['channel_params']['snr'] = snr\n",
    "    results = results.append(ol.run_block(**params), ignore_index=True)"
   ]
  },
  {
   "cell_type": "markdown",
   "metadata": {},
   "source": [
    "We can inspect the results as a table (with the `pandas` library). "
   ]
  },
  {
   "cell_type": "code",
   "execution_count": null,
   "metadata": {},
   "outputs": [],
   "source": [
    "results"
   ]
  },
  {
   "cell_type": "markdown",
   "metadata": {},
   "source": [
    "Now let's plot this using `plotly`, hopefully getting that classic BER curve!"
   ]
  },
  {
   "cell_type": "code",
   "execution_count": null,
   "metadata": {},
   "outputs": [],
   "source": [
    "import plotly.express as px\n",
    "\n",
    "px.line(\n",
    "    results, x='snr', y='ber',                                    # Data config\n",
    "    labels = {'snr': 'SNR (dB)', 'ber': 'Bit error probability'}, # Label config\n",
    "    template ='log_plot', height=400                              # Appearance\n",
    ")"
   ]
  },
  {
   "cell_type": "markdown",
   "metadata": {},
   "source": [
    "The Bit Error Rate plot shows that as the SNR increases (our signal gets less noisy) it becomes less likely that a bit is corrupted, so the bit error rate probability decreases\n",
    "\n",
    "## Comparing modulation schemes\n",
    "\n",
    "The next step is to run the BER vs SNR test for different modulation schemes and compare the results. Here we send over 200 different 40 Mb blocks with IP configuration and stats recovery in between.\n",
    "Because this test will take just over 3 minutes to run, now would be a good time to take a short break.You could also read a little more about the [LDPC codes](http://www.bernh.net/media/download/papers/ldpc.pdf) we're using here... and at least we're not waiting on a software implementation of the same codes!"
   ]
  },
  {
   "cell_type": "code",
   "execution_count": null,
   "metadata": {},
   "outputs": [],
   "source": [
    "params = base_params()\n",
    "results = pd.DataFrame()\n",
    "mod_schemes = [ModType.BPSK, ModType.QPSK, ModType.QAM16, ModType.QAM64]\n",
    "\n",
    "for mod_type in bar(mod_schemes, f'Modulation type loop'):\n",
    "    params['source_params']['mod_type'] = mod_type\n",
    "    for snr in bar(np.arange(3, 16, step=0.25), f'{mod_type.name} SNR Loop'):\n",
    "        params['channel_params']['snr'] = snr\n",
    "        results = results.append(ol.run_block(**params), ignore_index=True)\n",
    "\n",
    "results.to_csv('assets/ber_data.csv', mode='w', index=False)"
   ]
  },
  {
   "cell_type": "markdown",
   "metadata": {},
   "source": [
    "Let's plot the results as before, but giving each modulation scheme a line with a unique colour. Note that we're only plotting BER test results that are statistically significant(ish) — i.e. we ignore runs with less than a minimum number of bits in error."
   ]
  },
  {
   "cell_type": "code",
   "execution_count": null,
   "metadata": {},
   "outputs": [],
   "source": [
    "px.line(results.query('_bit_errors>5'), x='snr', y='ber', color='mod_type',\n",
    "        labels = {'snr': 'SNR (dB)', 'ber': 'Bit error probability'},\n",
    "        category_orders={\"mod_type\": ['BPSK', 'QPSK', 'QAM16', 'QAM64']},\n",
    "        range_y = (-4.5, -0.4), template='log_plot', height=400\n",
    "        )"
   ]
  },
  {
   "cell_type": "markdown",
   "metadata": {},
   "source": [
    "Notice that the legend in this plot is interactive! You can use it to select which modulation schemes are visible (single click an entry to hide it; double click to hide all others). We can see from the graph that QAM-64 needs the highest SNR to meet a fixed/acceptable BER, followed by QAM-16 and finally QPSK & BPSK.\n",
    "\n",
    "This matches our intuition: in general, the more complex modulation schemes are used to transmit more information in a given bandwidth.  Consequently, they are more susceptible to errors in the presence of noise.\n",
    "\n",
    "Let's continue by looking at some of the other statistics available to us. We'll plot four subplots showing different stats vs SNR."
   ]
  },
  {
   "cell_type": "code",
   "execution_count": null,
   "metadata": {},
   "outputs": [],
   "source": [
    "from plotly import subplots\n",
    "import plotly.offline as po\n",
    "\n",
    "sub_plot = lambda results, y_field: px.line(\n",
    "    results,  x='snr', y=y_field, color='mod_type',\n",
    "    category_orders={\"mod_type\": ['BPSK', 'QPSK', 'QAM16', 'QAM64']},\n",
    "    template='log_plot'\n",
    ")\n",
    "\n",
    "traces = [('Bit Error Rate'    , 'Error probability'        , 'ber'           , 'log'      , '_bit_errors>5', 1, 1,  False),\n",
    "          ('Average Iterations', 'Iterations'               , 'dec_avg_iters' , 'linear'   , None           , 1, 2,  False),\n",
    "          ('Frame Error Rate'  , 'Error Probability'        , 'fer'           , 'log'      , '_bit_errors>5', 2, 1,  False),\n",
    "          ('Decoder Throughput', 'Decoder Throughput (Gb/s)', 'dec_throughput', 'linear'   , None           , 2, 2,  True )]\n",
    "#          Plot title             Y-axis title                Y data field      Y-axis type  Query filter     Plot#  Show legend? \n",
    "\n",
    "def matrix_plot(sub_plot, traces):\n",
    "    fig = subplots.make_subplots(rows=2, cols=2, subplot_titles=list(map(lambda s:s[0], traces)), print_grid=False)\n",
    "\n",
    "    for _, y_title, y_field, y_scale, query, index_v, index_h, legend in traces:\n",
    "        trace_dataset = results if query == None else results.query(query)\n",
    "        for trace in sub_plot(trace_dataset, y_field).data:\n",
    "            trace.showlegend = legend\n",
    "            subplot_name = str(index_h+2*(index_v-1))\n",
    "            x_axis = getattr(fig.layout, 'xaxis'+subplot_name)\n",
    "            x_axis.title = 'SNR (dB)'\n",
    "            y_axis = getattr(fig.layout, 'yaxis'+subplot_name)\n",
    "            y_axis.type=y_scale\n",
    "            y_axis.exponentformat = 'power' if y_scale == 'log' else 'none'\n",
    "            y_axis.title=y_title\n",
    "            fig.append_trace(trace, index_v, index_h)\n",
    "            \n",
    "    fig.layout.template = 'log_plot'\n",
    "    fig.layout.height = 500\n",
    "    po.iplot(fig)\n",
    "\n",
    "matrix_plot(sub_plot, traces)"
   ]
  },
  {
   "cell_type": "markdown",
   "metadata": {},
   "source": [
    "There are three patterns worth noting here:\n",
    "\n",
    "  1. The bit error rate has a direct effect on the frame error rate (this at least shows that the errors are evenly distrbuted between frames)\n",
    "  \n",
    "  2. The average number of iterations starts at our maximum but drops as SNR increases\n",
    "  \n",
    "  3. The decoder throughput *in this design* depends on a couple of factors, including:\n",
    "      * The average number of iterations — also influenced by the SNR.\n",
    "      \n",
    "      * The modulation scheme (QAM-64 transmits 6 bits of information with each symbol whereas BPSK only transmits 1 bit). Our channel model takes in symbols at a fixed rate, so the QPSK and BPSK curves are actually limited by the channel model and not by the FEC decoder. The QAM-16 curve, however, *is* limited by the FEC decoder block.\n",
    "\n",
    "The SNR of our signal not only impacts the BER we can achieve, but also the maximum throughput of the system. With the risk of being a bit too gimmicky, let's plot this relationship as a 3D scatter plot."
   ]
  },
  {
   "cell_type": "code",
   "execution_count": null,
   "metadata": {},
   "outputs": [],
   "source": [
    "px.scatter_3d(results, x='snr', y='ber', z='dec_throughput', color='mod_type',\n",
    "              labels = {'snr': 'SNR (dB)', 'ber': 'Bit error probability', 'dec_throughput': 'Throughput (Gb/s)'},\n",
    "              category_orders={\"mod_type\": ['BPSK', 'QPSK', 'QAM16', 'QAM64']},\n",
    "              template='log_plot', height=500)"
   ]
  },
  {
   "cell_type": "markdown",
   "metadata": {},
   "source": [
    "## Comparing LDPC codes\n",
    "\n",
    "One final parametric sweep we might want to look at is for testing different LDPC codes. We expect to see some trade-offs between throughput and BER performance.\n",
    "\n",
    "Let's have a quick look at how to configure these LDPC codes with the PYNQ SdFec driver. This driver is a Python wrapper around the [existing baremetal driver](https://github.com/Xilinx/embeddedsw/tree/release-2018.3/XilinxProcessorIPLib/drivers/sd_fec), with a few extra conveniences. Because of the way we parse bitstream metadata, the SdFec driver can extract all LDPC code parameters that have been preloaded in Vivado. We can now setup different codes by name rather than large C structures.\n",
    "\n",
    "We can ask the SdFec driver for a full list of LDPC codes preloaded in this design. There are many codes so let's only look at the first 5 or so:"
   ]
  },
  {
   "cell_type": "code",
   "execution_count": null,
   "metadata": {},
   "outputs": [],
   "source": [
    "ol.sd_fec_dec.available_ldpc_params()[:5]"
   ]
  },
  {
   "cell_type": "markdown",
   "metadata": {},
   "source": [
    "Now let's put a new code at the start of the SD-FEC decoder's look-up tables."
   ]
  },
  {
   "cell_type": "code",
   "execution_count": null,
   "metadata": {},
   "outputs": [],
   "source": [
    "ol.sd_fec_dec.add_ldpc_params(0, 0, 0, 0, 'wifi802_11_cr1_2_1296')"
   ]
  },
  {
   "cell_type": "markdown",
   "metadata": {},
   "source": [
    "We can iterate a test over a subset of the available codes."
   ]
  },
  {
   "cell_type": "code",
   "execution_count": null,
   "metadata": {},
   "outputs": [],
   "source": [
    "params = base_params()\n",
    "params['fec_params']['max_iter'] = 16\n",
    "params['source_params']['mod_type'] = ModType.QAM16\n",
    "results = pd.DataFrame()\n",
    "ldpc_codes = ['docsis_short', 'wifi802_11_cr2_3_1296', '5g_graph1_set1_l46_p32']\n",
    "\n",
    "# See ol.sd_fec_dec.available_ldpc_params() for a full list of included LDPC codes \n",
    "for ldpc_code in bar(ldpc_codes, 'Code loop'):   \n",
    "    params['fec_params']['code_name'] = ldpc_code\n",
    "    for snr in bar(np.arange(0, 10, step=0.5), f'{str(ldpc_code)} SNR loop'):\n",
    "        params['channel_params']['snr'] = snr\n",
    "        results = results.append(ol.run_block(**params), ignore_index=True)"
   ]
  },
  {
   "cell_type": "markdown",
   "metadata": {},
   "source": [
    "Let's generate some plots with a unique colour for each LDPC code"
   ]
  },
  {
   "cell_type": "code",
   "execution_count": null,
   "metadata": {},
   "outputs": [],
   "source": [
    "sub_plot = lambda results, y_field: px.line(\n",
    "    results,  x='snr', y=y_field, color='code_name',\n",
    "    template='log_plot', height = 500\n",
    ")\n",
    "\n",
    "matrix_plot(sub_plot, traces)"
   ]
  },
  {
   "cell_type": "markdown",
   "metadata": {},
   "source": [
    "The set of codes selected have dramatic differences in performance! Note in particular the difference between throughput and bit error rate — a classic balancing act. The 5G code has a substantially lower throughput at these SNR values but is the clear winner in terms of error correction. \n",
    "\n",
    "## A note on performance\n",
    "\n",
    "It should be noted that the encoder typically has a much higher throughput than the decoder. This design includes a FIFO that allows performs some buffering of encoded data but if this becomes full the encoder IP is throttled. Therefore, to measure the throughput of the encoder the number of codeblocks run through the system should be limited such the encoded data FIFO does not fill. Generally limiting the number of blocks to 100 will ensure the encoded data FIFO does not fill.\n",
    "\n",
    "Also note that the channel model throughput is limited by the modulation type selected. The maximum throughput supported is using QAM-64 modulation (6 bits per symbol). With the channel model's 4 symbol wide input, this gives a maximum throughput of:\n",
    "$$ 4 \\times 6\\ bits \\times 300\\ MHz = 7.2\\ Gb/s $$\n",
    "\n",
    "Let's run a small test and inspect the encoder and decoder throughputs."
   ]
  },
  {
   "cell_type": "code",
   "execution_count": null,
   "metadata": {},
   "outputs": [],
   "source": [
    "params = base_params()\n",
    "params['source_params']['mod_type'] = ModType.QAM64\n",
    "params['source_params']['num_blocks'] = 100\n",
    "params['channel_params']['snr'] = 16.0\n",
    "\n",
    "results = ol.run_block(**params)\n",
    "enc_tp = results['enc_throughput']\n",
    "dec_tp = results['dec_throughput']\n",
    "print(f'Encoder throughput: {enc_tp} Gb/s \\t Decoder throughput: {dec_tp} Gb/s')"
   ]
  },
  {
   "cell_type": "markdown",
   "metadata": {},
   "source": [
    "It's also good to note that these throughput stats for the 'docsis_short' code agree quite closely with the [official documentation](https://www.xilinx.com/support/documentation/ip_documentation/pl/sd-fec-throughput-latency.html#toc8).\n",
    "\n",
    "## Summary\n",
    "\n",
    "In this notebook we've:\n",
    "\n",
    "  * Used PYNQ to interact with the SD-FEC blocks present on the RFSoC\n",
    "  * Looked at profiling the performance of the SD-FEC encoder and decoder blocks\n",
    "  * Taken an example SD-FEC design and demonstrated the benefits Python productivity:\n",
    "    + Performed parametric sweeps of SNR, modulation scheme, and LDPC codes...\n",
    "    + with interactive visualisations of the results...\n",
    "    + helping to learn about the relationship between the parameters and different performance metrics\n",
    "\n",
    "This design is open source and available [here](https://github.com/Xilinx/SDFEC-PYNQ)."
   ]
  }
 ],
 "metadata": {
  "kernelspec": {
   "display_name": "Python 3",
   "language": "python",
   "name": "python3"
  },
  "language_info": {
   "codemirror_mode": {
    "name": "ipython",
    "version": 3
   },
   "file_extension": ".py",
   "mimetype": "text/x-python",
   "name": "python",
   "nbconvert_exporter": "python",
   "pygments_lexer": "ipython3",
   "version": "3.8.2"
  }
 },
 "nbformat": 4,
 "nbformat_minor": 4
}
